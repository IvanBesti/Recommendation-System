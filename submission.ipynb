{
 "cells": [
  {
   "cell_type": "markdown",
   "metadata": {},
   "source": [
    "# 1. Business Understanding\n",
    "\n",
    "# Problem Statements\n",
    "\n",
    "Pengguna platform layanan film sering kali kesulitan menemukan film yang sesuai dengan preferensi mereka karena banyaknya pilihan dan variasi konten yang tersedia. Hal ini menyebabkan pengalaman pengguna menurun dan potensi engagement yang rendah.\n",
    "\n",
    "Selain itu, sistem rekomendasi yang ada belum mampu secara efektif menangani permasalahan seperti cold start dan keterbatasan data pengguna, sehingga rekomendasi yang diberikan kurang personal dan relevan.\n",
    "\n",
    "## Goals\n",
    "\n",
    "Proyek ini bertujuan untuk mengembangkan sistem rekomendasi film yang mampu memberikan rekomendasi Top-N yang relevan dan personal bagi setiap pengguna. Sistem ini harus mampu:\n",
    "\n",
    "- Meningkatkan pengalaman pengguna dalam menemukan film yang sesuai selera.\n",
    "- Mengatasi permasalahan cold start dan sparsity data dengan pendekatan yang tepat.\n",
    "- Memberikan rekomendasi yang dapat dipertanggungjawabkan secara teknis dan praktis.\n",
    "\n",
    "## Solution Approach\n",
    "\n",
    "Dalam rangka mencapai tujuan tersebut, proyek ini menggunakan dua pendekatan utama sistem rekomendasi:\n",
    "\n",
    "1. **Content-Based Filtering**  \n",
    "   Pendekatan ini merekomendasikan film berdasarkan kesamaan fitur konten, seperti genre, yang sesuai dengan preferensi pengguna. Metode ini efektif untuk menangani cold start pada pengguna baru karena hanya membutuhkan data konten film.\n",
    "\n",
    "2. **Collaborative Filtering**  \n",
    "   Pendekatan ini menggunakan pola interaksi dan rating pengguna lain untuk memberikan rekomendasi. Metode ini dapat menangkap preferensi laten dan pola kompleks antar pengguna dan film, sehingga dapat memberikan rekomendasi yang lebih personal dan kontekstual.\n",
    "\n",
    "Kombinasi kedua pendekatan ini diharapkan dapat saling melengkapi kekurangan masing-masing, sehingga menghasilkan sistem rekomendasi yang lebih robust dan efektif."
   ]
  },
  {
   "cell_type": "markdown",
   "metadata": {},
   "source": [
    "# 2. Data Understanding\n",
    "\n",
    "Dataset yang digunakan dalam proyek ini adalah [MovieLens 100K](https://grouplens.org/datasets/movielens/100k/), yang merupakan dataset benchmark dalam penelitian sistem rekomendasi.\n",
    "\n",
    "### Deskripsi Dataset\n",
    "\n",
    "Dataset ini terdiri dari 100.000 interaksi (rating) dari 943 pengguna terhadap 1.682 film. Dataset ini disusun ke dalam beberapa file terpisah dengan format tab-delimited dan memiliki informasi sebagai berikut:\n",
    "\n",
    "- `u.data`: data rating, berisi user ID, item ID (film), rating (1–5), dan timestamp.\n",
    "- `u.item`: metadata film seperti judul, tanggal rilis, dan genre.\n",
    "- `u.user`: data pengguna yang mencakup usia, jenis kelamin, pekerjaan, dan kode pos.\n",
    "- `u.genre`: daftar genre film dan ID genre.\n",
    "\n",
    "### Link Dataset\n",
    "Dataset ini dapat diunduh secara resmi dari:  \n",
    "[https://grouplens.org/datasets/movielens/100k/](https://grouplens.org/datasets/movielens/100k/)\n",
    "\n",
    "### Fitur yang Digunakan\n",
    "Beberapa fitur penting yang akan dianalisis:\n",
    "- `user_id`: ID pengguna unik\n",
    "- `item_id`: ID film\n",
    "- `rating`: skor yang diberikan user terhadap film\n",
    "- `title`: judul film\n",
    "- `release_date`: tanggal rilis film\n",
    "- `genre`: genre film (biner)\n",
    "\n",
    "### Tujuan Eksplorasi Data\n",
    "Tahapan ini bertujuan untuk memahami struktur data, kualitas data, serta pola umum dalam interaksi user-film. Analisis akan mencakup:\n",
    "- Informasi dasar struktur dataset\n",
    "- Statistik deskriptif\n",
    "- Pemeriksaan missing values\n",
    "- Distribusi rating\n",
    "- Film terpopuler\n",
    "- Aktivitas pengguna\n",
    "- Visualisasi (histogram, boxplot, barplot)"
   ]
  },
  {
   "cell_type": "code",
   "execution_count": 1,
   "metadata": {},
   "outputs": [],
   "source": [
    "# Import Libraries\n",
    "import pandas as pd\n",
    "import matplotlib.pyplot as plt\n",
    "import seaborn as sns\n",
    "import numpy as np\n",
    "\n",
    "from sklearn.metrics.pairwise import cosine_similarity\n",
    "from sklearn.decomposition import TruncatedSVD\n",
    "from sklearn.metrics import mean_squared_error\n",
    "from math import sqrt"
   ]
  },
  {
   "cell_type": "markdown",
   "metadata": {},
   "source": [
    "**Import Libraries**\n",
    "\n",
    "Langkah pertama dalam proses pengembangan sistem rekomendasi adalah mengimpor pustaka (libraries) yang dibutuhkan. Berikut penjelasan fungsi masing-masing pustaka yang digunakan:\n",
    "\n",
    "- `pandas`: Digunakan untuk memuat dan memanipulasi dataset berbentuk tabel (DataFrame).\n",
    "- `matplotlib.pyplot` dan `seaborn`: Pustaka visualisasi data untuk membuat grafik seperti histogram, boxplot, dan barplot.\n",
    "- `numpy`: Pustaka fundamental untuk komputasi numerik, khususnya array dan operasi linier.\n",
    "\n",
    "Dari Scikit-learn:\n",
    "- `cosine_similarity`: Untuk menghitung kemiripan antar film berdasarkan genre (content-based filtering).\n",
    "- `TruncatedSVD`: Digunakan untuk mengurangi dimensi matriks user-item, teknik ini merupakan dasar dari collaborative filtering berbasis matrix factorization.\n",
    "- `mean_squared_error` dan `sqrt`: Digunakan untuk menghitung metrik evaluasi RMSE (Root Mean Square Error) sebagai pengukur performa prediksi rating.\n"
   ]
  },
  {
   "cell_type": "code",
   "execution_count": 2,
   "metadata": {},
   "outputs": [],
   "source": [
    "# Load dataset utama\n",
    "df_ratings = pd.read_csv(\"ml-100k/u.data\", sep=\"\\t\", names=[\"user_id\", \"item_id\", \"rating\", \"timestamp\"])"
   ]
  },
  {
   "cell_type": "markdown",
   "metadata": {},
   "source": [
    "**Load Dataset Utama**\n",
    "\n",
    "Langkah pertama dalam proses pemrosesan data adalah memuat dataset utama. File `u.data` merupakan bagian dari MovieLens 100K dataset yang berisi data interaksi antara pengguna dan film dalam bentuk rating.\n",
    "\n",
    "Dataset ini memiliki format **tab-delimited** (dipisahkan oleh tab `\\t`), dan setiap baris merepresentasikan satu interaksi, dengan struktur sebagai berikut:\n",
    "\n",
    "- `user_id`: ID pengguna\n",
    "- `item_id`: ID film\n",
    "- `rating`: nilai rating yang diberikan (1–5)\n",
    "- `timestamp`: waktu rating diberikan (dalam format UNIX epoch)\n"
   ]
  },
  {
   "cell_type": "code",
   "execution_count": 3,
   "metadata": {},
   "outputs": [],
   "source": [
    "# Load item (film metadata)\n",
    "df_items = pd.read_csv(\n",
    "    'ml-100k/u.item',\n",
    "    sep='|',\n",
    "    encoding='latin-1',\n",
    "    names=['item_id', 'title', 'release_date', 'video_release_date', 'IMDb_URL'] + [f'genre_{i}' for i in range(19)],\n",
    "    usecols=range(24)\n",
    ")"
   ]
  },
  {
   "cell_type": "markdown",
   "metadata": {},
   "source": [
    "**Load Metadata Film**\n",
    "\n",
    "File `u.item` berisi metadata dari setiap film yang terdapat dalam dataset MovieLens 100K. Metadata ini mencakup informasi judul film, tanggal rilis, dan representasi biner genre.\n",
    "\n",
    "Dataset ini dipisahkan oleh simbol `|` (pipe), sehingga perlu ditentukan pemisahnya saat pembacaan. Karena beberapa karakter dalam file menggunakan encoding khusus, digunakan parameter `encoding='latin-1'`.\n",
    "\n",
    "Kolom-kolom yang dimuat antara lain:\n",
    "- `item_id`: ID film\n",
    "- `title`: judul film\n",
    "- `release_date`: tanggal rilis film\n",
    "- `video_release_date`: tanggal rilis versi video (umumnya kosong)\n",
    "- `IMDb_URL`: link film ke IMDb\n",
    "- `genre_0` sampai `genre_18`: representasi genre film dalam format biner (1 berarti film memiliki genre tersebut, 0 berarti tidak)\n"
   ]
  },
  {
   "cell_type": "code",
   "execution_count": 4,
   "metadata": {},
   "outputs": [],
   "source": [
    "# Gabungkan data rating dan item\n",
    "df = pd.merge(df_ratings, df_items[['item_id', 'title', 'release_date']], on='item_id')"
   ]
  },
  {
   "cell_type": "markdown",
   "metadata": {},
   "source": [
    "**Gabungkan Data Rating dan Metadata Film**\n",
    "\n",
    "Setelah memuat data interaksi pengguna (`df_ratings`) dan metadata film (`df_items`), langkah selanjutnya adalah menggabungkan kedua dataset tersebut untuk membentuk satu DataFrame yang komprehensif.\n",
    "\n",
    "Penggabungan dilakukan berdasarkan kolom `item_id`, yang merupakan kunci utama (primary key) pada kedua tabel.\n",
    "\n",
    "Kolom yang disertakan dari `df_items` dalam penggabungan ini adalah:\n",
    "- `title`: judul film\n",
    "- `release_date`: tanggal rilis film\n",
    "\n",
    "Hasil penggabungan akan memudahkan analisis selanjutnya seperti menampilkan judul film dalam rekomendasi dan menganalisis perilaku pengguna berdasarkan waktu rilis film.\n"
   ]
  },
  {
   "cell_type": "code",
   "execution_count": 5,
   "metadata": {},
   "outputs": [
    {
     "name": "stdout",
     "output_type": "stream",
     "text": [
      "<class 'pandas.core.frame.DataFrame'>\n",
      "Int64Index: 100000 entries, 0 to 99999\n",
      "Data columns (total 6 columns):\n",
      " #   Column        Non-Null Count   Dtype \n",
      "---  ------        --------------   ----- \n",
      " 0   user_id       100000 non-null  int64 \n",
      " 1   item_id       100000 non-null  int64 \n",
      " 2   rating        100000 non-null  int64 \n",
      " 3   timestamp     100000 non-null  int64 \n",
      " 4   title         100000 non-null  object\n",
      " 5   release_date  99991 non-null   object\n",
      "dtypes: int64(4), object(2)\n",
      "memory usage: 5.3+ MB\n",
      "None\n"
     ]
    }
   ],
   "source": [
    "# Struktur & Statistik\n",
    "print(df.info())"
   ]
  },
  {
   "cell_type": "markdown",
   "metadata": {},
   "source": [
    "**Pemeriksaan Struktur Data**\n",
    "\n",
    "Untuk memahami struktur dan kualitas dataset setelah proses penggabungan, digunakan fungsi `df.info()` dari pandas. Fungsi ini memberikan informasi seperti:\n",
    "\n",
    "- Jumlah total baris (entry)\n",
    "- Nama kolom\n",
    "- Jumlah nilai yang tidak kosong (non-null)\n",
    "- Tipe data (data types)\n",
    "\n",
    "**Output:**\n",
    "\n",
    "- Dataset berisi **100.000 baris** (interaksi pengguna dengan film).\n",
    "- Semua kolom memiliki 100.000 nilai **non-null**, kecuali kolom `release_date` yang memiliki 99.991 nilai, artinya ada **9 data yang kosong** pada tanggal rilis film.\n",
    "- Tipe data:\n",
    "  - `user_id`, `item_id`, `rating`, `timestamp`: integer\n",
    "  - `title`, `release_date`: object (string)"
   ]
  },
  {
   "cell_type": "code",
   "execution_count": 6,
   "metadata": {},
   "outputs": [
    {
     "name": "stdout",
     "output_type": "stream",
     "text": [
      "            user_id        item_id         rating     timestamp\n",
      "count  100000.00000  100000.000000  100000.000000  1.000000e+05\n",
      "mean      462.48475     425.530130       3.529860  8.835289e+08\n",
      "std       266.61442     330.798356       1.125674  5.343856e+06\n",
      "min         1.00000       1.000000       1.000000  8.747247e+08\n",
      "25%       254.00000     175.000000       3.000000  8.794487e+08\n",
      "50%       447.00000     322.000000       4.000000  8.828269e+08\n",
      "75%       682.00000     631.000000       4.000000  8.882600e+08\n",
      "max       943.00000    1682.000000       5.000000  8.932866e+08\n"
     ]
    }
   ],
   "source": [
    "print(df.describe())"
   ]
  },
  {
   "cell_type": "markdown",
   "metadata": {},
   "source": [
    "**Statistik Deskriptif**\n",
    "\n",
    "Fungsi `df.describe()` digunakan untuk memberikan gambaran statistik ringkas dari kolom numerik dalam dataset. Informasi yang ditampilkan meliputi jumlah data (`count`), nilai rata-rata (`mean`), standar deviasi (`std`), nilai minimum (`min`), hingga kuartil 25%, 50% (median), 75%, dan nilai maksimum (`max`).\n",
    "\n",
    "**Hasil Analisis:**\n",
    "\n",
    "- **user_id**: Terdapat 943 pengguna unik (ID dari 1 hingga 943).\n",
    "- **item_id**: Terdapat 1.682 film (ID dari 1 hingga 1682).\n",
    "- **rating**:\n",
    "  - Rata-rata rating: sekitar **3.53**\n",
    "  - Rating minimum: **1**, maksimum: **5**\n",
    "  - Mayoritas rating berada di antara **3 dan 4**, sesuai dengan persepsi umum bahwa pengguna cenderung memberikan rating menengah ke atas.\n",
    "- **timestamp**:\n",
    "  - Merupakan waktu rating dalam format UNIX timestamp.\n",
    "  - Dapat dikonversi ke format waktu manusia (datetime) untuk analisis berbasis waktu (jika diperlukan)."
   ]
  },
  {
   "cell_type": "code",
   "execution_count": 7,
   "metadata": {},
   "outputs": [
    {
     "name": "stderr",
     "output_type": "stream",
     "text": [
      "/var/folders/nk/xlbwp6w12lj8dwv0ksf9flpm0000gn/T/ipykernel_63819/268797703.py:3: FutureWarning: \n",
      "\n",
      "Passing `palette` without assigning `hue` is deprecated and will be removed in v0.14.0. Assign the `x` variable to `hue` and set `legend=False` for the same effect.\n",
      "\n",
      "  sns.countplot(x='rating', data=df, palette='viridis')\n"
     ]
    },
    {
     "data": {
      "image/png": "[encoded data removed]",
      "text/plain": [
       "<Figure size 600x400 with 1 Axes>"
      ]
     },
     "metadata": {},
     "output_type": "display_data"
    }
   ],
   "source": [
    "# Distribusi Rating\n",
    "plt.figure(figsize=(6,4))\n",
    "sns.countplot(x='rating', data=df, palette='viridis')\n",
    "plt.title('Distribusi Rating')\n",
    "plt.xlabel('Rating')\n",
    "plt.ylabel('Jumlah')\n",
    "plt.show()"
   ]
  },
  {
   "cell_type": "markdown",
   "metadata": {},
   "source": [
    "**Insight: Distribusi Rating**\n",
    "\n",
    "Berdasarkan visualisasi distribusi rating, terdapat beberapa insight penting yang dapat disimpulkan:\n",
    "\n",
    "- **Rating 3 dan 4 mendominasi** dataset, menunjukkan bahwa sebagian besar pengguna cenderung memberikan penilaian netral hingga positif terhadap film yang mereka tonton.\n",
    "- **Rating 1 dan 2 relatif jarang diberikan**, mengindikasikan bahwa pengguna cenderung menghindari memberi rating rendah kecuali untuk film yang sangat tidak disukai.\n",
    "- **Rating 5 (tertinggi)** juga cukup umum, namun tidak sebanyak rating 4, yang mungkin mencerminkan bahwa pengguna lebih selektif saat memberikan rating maksimal.\n",
    "\n",
    "Distribusi ini menunjukkan adanya **bias ke arah rating tinggi**, yang perlu diperhitungkan saat membangun model evaluasi maupun saat menentukan threshold relevansi untuk metrik seperti Precision@K."
   ]
  },
  {
   "cell_type": "code",
   "execution_count": 8,
   "metadata": {},
   "outputs": [
    {
     "name": "stderr",
     "output_type": "stream",
     "text": [
      "/var/folders/nk/xlbwp6w12lj8dwv0ksf9flpm0000gn/T/ipykernel_63819/3435101554.py:3: FutureWarning: \n",
      "\n",
      "Passing `palette` without assigning `hue` is deprecated and will be removed in v0.14.0. Assign the `y` variable to `hue` and set `legend=False` for the same effect.\n",
      "\n",
      "  sns.boxplot(x='rating', data=df, palette='Set2')\n"
     ]
    },
    {
     "data": {
      "image/png": "[encoded data removed]",
      "text/plain": [
       "<Figure size 1000x500 with 1 Axes>"
      ]
     },
     "metadata": {},
     "output_type": "display_data"
    }
   ],
   "source": [
    "# Boxplot Rating per User\n",
    "plt.figure(figsize=(10,5))\n",
    "sns.boxplot(x='rating', data=df, palette='Set2')\n",
    "plt.title('Boxplot Distribusi Rating')\n",
    "plt.xlabel('Rating')\n",
    "plt.show()\n"
   ]
  },
  {
   "cell_type": "markdown",
   "metadata": {},
   "source": [
    "**Insight: Boxplot Distribusi Rating**\n",
    "\n",
    "Visualisasi boxplot digunakan untuk melihat penyebaran nilai rating sekaligus mendeteksi adanya outlier.\n",
    "\n",
    "Beberapa insight penting yang dapat diambil dari boxplot distribusi rating adalah:\n",
    "\n",
    "- **Median rating berada pada angka 4**, artinya lebih dari 50% pengguna memberikan rating minimal 4.\n",
    "- Sebagian besar rating berada pada rentang **antara 3 dan 4**, menunjukkan distribusi rating yang condong ke arah positif.\n",
    "- **Rating 1 terlihat sebagai outlier**, mengindikasikan bahwa hanya sedikit pengguna yang memberikan rating sangat rendah.\n",
    "- Tidak ditemukan outlier signifikan pada nilai rating tertinggi (5), memperkuat pola bahwa pengguna cenderung memberi rating yang baik.\n",
    "\n",
    "Boxplot ini memperkuat temuan sebelumnya dari histogram bahwa dataset ini memiliki **skew ke arah rating tinggi**, yang perlu dipertimbangkan dalam penyesuaian threshold relevansi maupun saat merancang sistem rekomendasi berbasis rating."
   ]
  },
  {
   "cell_type": "code",
   "execution_count": 9,
   "metadata": {},
   "outputs": [
    {
     "name": "stderr",
     "output_type": "stream",
     "text": [
      "/var/folders/nk/xlbwp6w12lj8dwv0ksf9flpm0000gn/T/ipykernel_63819/2427564136.py:4: FutureWarning: \n",
      "\n",
      "Passing `palette` without assigning `hue` is deprecated and will be removed in v0.14.0. Assign the `y` variable to `hue` and set `legend=False` for the same effect.\n",
      "\n",
      "  sns.barplot(x=top_movies.values, y=top_movies.index, palette='crest')\n"
     ]
    },
    {
     "data": {
      "image/png": "[encoded data removed]",
      "text/plain": [
       "<Figure size 1000x600 with 1 Axes>"
      ]
     },
     "metadata": {},
     "output_type": "display_data"
    }
   ],
   "source": [
    "# Top 10 Film Terpopuler\n",
    "top_movies = df['title'].value_counts().head(10)\n",
    "plt.figure(figsize=(10,6))\n",
    "sns.barplot(x=top_movies.values, y=top_movies.index, palette='crest')\n",
    "plt.title('Top 10 Film Paling Sering Dirating')\n",
    "plt.xlabel('Jumlah Rating')\n",
    "plt.ylabel('Judul Film')\n",
    "plt.show()"
   ]
  },
  {
   "cell_type": "markdown",
   "metadata": {},
   "source": [
    "**Insight: Top 10 Film Paling Sering Dirating**\n",
    "\n",
    "Visualisasi ini menampilkan 10 film dengan jumlah rating terbanyak yang diberikan oleh pengguna dalam dataset MovieLens 100K. Beberapa insight penting yang dapat diambil:\n",
    "\n",
    "- Film **\"Star Wars (1977)\"** menempati urutan pertama sebagai film yang paling banyak dirating, menunjukkan popularitas dan daya tariknya yang tinggi di kalangan pengguna.\n",
    "- Judul-judul lain dalam daftar seperti **\"Fargo (1996)\"**, **\"Return of the Jedi (1983)\"**, dan **\"Toy Story (1995)\"** juga merupakan film terkenal yang dirilis pada era 1980–1990-an.\n",
    "- Semua film dalam daftar ini memiliki **lebih dari 400 rating**, mengindikasikan bahwa film-film tersebut menjadi **titik interaksi populer dalam sistem rekomendasi**.\n",
    "- Ini juga berarti bahwa film-film populer seperti ini sangat mungkin mendominasi hasil rekomendasi berbasis popularitas atau collaborative filtering jika tidak dilakukan normalisasi atau pembobotan.\n",
    "\n",
    "Visualisasi ini membantu dalam mengenali item yang menjadi **pusat perhatian user**, sekaligus menunjukkan potensi bias dataset terhadap film-film tertentu yang lebih terkenal."
   ]
  },
  {
   "cell_type": "code",
   "execution_count": 10,
   "metadata": {},
   "outputs": [
    {
     "data": {
      "image/png": "[encoded data removed]",
      "text/plain": [
       "<Figure size 800x500 with 1 Axes>"
      ]
     },
     "metadata": {},
     "output_type": "display_data"
    }
   ],
   "source": [
    "# Distribusi Jumlah Rating per User\n",
    "user_rating_counts = df.groupby('user_id')['rating'].count()\n",
    "plt.figure(figsize=(8,5))\n",
    "sns.histplot(user_rating_counts, bins=30, kde=True, color='skyblue')\n",
    "plt.title('Distribusi Jumlah Rating per User')\n",
    "plt.xlabel('Jumlah Rating')\n",
    "plt.ylabel('Jumlah User')\n",
    "plt.show()"
   ]
  },
  {
   "cell_type": "markdown",
   "metadata": {},
   "source": [
    "**Insight: Distribusi Jumlah Rating per User**\n",
    "\n",
    "Grafik ini menunjukkan bagaimana distribusi aktivitas pengguna dalam memberikan rating terhadap film. Metrik yang digunakan adalah jumlah rating yang diberikan oleh masing-masing pengguna.\n",
    "\n",
    "### Temuan Penting:\n",
    "\n",
    "- Sebagian besar pengguna memberikan **kurang dari 100 rating**, yang ditunjukkan oleh tingginya frekuensi pada bar paling kiri.\n",
    "- Hanya sebagian kecil pengguna yang sangat aktif, memberikan hingga **700+ rating**, dan mereka membentuk ekor panjang (long tail) pada distribusi.\n",
    "- Distribusi ini menunjukkan karakteristik umum dari sistem rekomendasi di dunia nyata: \n",
    "  - Terdapat banyak pengguna pasif dengan kontribusi interaksi yang minim.\n",
    "  - Sebaliknya, sejumlah kecil pengguna sangat aktif dan memiliki kontribusi besar terhadap data.\n",
    "\n",
    "Kondisi ini bisa menyebabkan **sparsity (kelangkaan data)** dalam matrix user-item, yang menjadi tantangan umum dalam collaborative filtering. Model rekomendasi harus dirancang agar tetap mampu memberi prediksi yang baik meskipun data pengguna terbatas."
   ]
  },
  {
   "cell_type": "code",
   "execution_count": 11,
   "metadata": {},
   "outputs": [
    {
     "data": {
      "image/png": "[encoded data removed]",
      "text/plain": [
       "<Figure size 1000x400 with 1 Axes>"
      ]
     },
     "metadata": {},
     "output_type": "display_data"
    }
   ],
   "source": [
    "# Rata-rata Rating per Film\n",
    "avg_rating = df.groupby('title')['rating'].mean().sort_values(ascending=False)\n",
    "plt.figure(figsize=(10,4))\n",
    "sns.histplot(avg_rating, bins=30, kde=True, color='salmon')\n",
    "plt.title('Distribusi Rata-rata Rating per Film')\n",
    "plt.xlabel('Rata-rata Rating')\n",
    "plt.ylabel('Jumlah Film')\n",
    "plt.show()"
   ]
  },
  {
   "cell_type": "markdown",
   "metadata": {},
   "source": [
    "**Insight: Distribusi Rata-rata Rating per Film**\n",
    "\n",
    "Grafik ini menampilkan distribusi rata-rata rating dari seluruh film dalam dataset. Setiap film dihitung nilai rata-rata rating-nya berdasarkan semua user yang telah memberikan penilaian terhadap film tersebut.\n",
    "\n",
    "### Temuan Utama:\n",
    "\n",
    "- Rata-rata rating film cenderung mengikuti distribusi normal (bell curve) dengan puncak di sekitar **3.0 hingga 3.5**.\n",
    "- Sangat sedikit film yang memiliki rata-rata rating ekstrem, baik **sangat tinggi (di atas 4.5)** maupun **sangat rendah (di bawah 2.0)**.\n",
    "- Hal ini menunjukkan bahwa sebagian besar film memiliki penilaian moderat dari pengguna, mencerminkan penilaian yang cukup adil dan tidak bias ekstrem.\n",
    "- Keberadaan **film dengan rata-rata rating mendekati 1 atau 5** bisa menjadi indikator item yang sangat kontroversial atau sangat digemari.\n",
    "\n",
    "Distribusi ini penting untuk dipahami karena dapat membantu dalam menetapkan ambang batas rekomendasi. Misalnya, hanya film dengan rata-rata di atas **3.5 atau 4.0** yang direkomendasikan dalam model content-based filtering."
   ]
  },
  {
   "cell_type": "markdown",
   "metadata": {},
   "source": [
    "# 3. Data Preparation\n",
    "\n",
    "Tahapan data preparation dilakukan untuk membersihkan, menyusun, dan menyiapkan data sebelum dilakukan modeling. Beberapa proses yang dilakukan meliputi penghapusan kolom yang tidak relevan, konversi tipe data, dan transformasi data agar sesuai untuk pendekatan content-based filtering dan collaborative filtering.\n",
    "\n",
    "### Langkah-langkah Data Preparation:\n",
    "\n",
    "1. **Menentukan Kolom Genre**.\n",
    "2. **Menggabungkan data rating dengan metadata film**.\n",
    "3. **Menghapus Kolom yang Tidak Diperlukan**.\n",
    "4. **Membuat Content Feature Matrix** \n",
    "5. **Membuat Matrix User-Item**. \n",
    "\n",
    "Langkah-langkah ini memastikan bahwa data siap digunakan dalam kedua pendekatan sistem rekomendasi."
   ]
  },
  {
   "cell_type": "code",
   "execution_count": 12,
   "metadata": {},
   "outputs": [],
   "source": [
    "# Load item metadata\n",
    "genre_cols = [\n",
    "    'unknown', 'Action', 'Adventure', 'Animation', 'Children\\'s', 'Comedy', 'Crime',\n",
    "    'Documentary', 'Drama', 'Fantasy', 'Film-Noir', 'Horror', 'Musical', 'Mystery',\n",
    "    'Romance', 'Sci-Fi', 'Thriller', 'War', 'Western'\n",
    "]\n",
    "item_cols = ['item_id', 'title', 'release_date', 'video_release_date', 'IMDb_URL'] + genre_cols\n",
    "df_items = pd.read_csv('ml-100k/u.item', sep='|', encoding='latin-1', names=item_cols, usecols=range(24))"
   ]
  },
  {
   "cell_type": "markdown",
   "metadata": {},
   "source": [
    "**Menentukan Kolom Genre**  \n",
    "   Dataset `u.item` memuat 19 jenis genre dalam format biner (0/1). Untuk memudahkan proses eksplisit dan menjaga keterbacaan, kolom-kolom genre diberi nama secara manual ke dalam list `genre_cols`.\n",
    "   \n",
    "**Membaca Metadata Film (`u.item`)**  \n",
    "   File dibaca menggunakan `pandas.read_csv()` dengan separator `|`. Hanya 24 kolom pertama yang digunakan, termasuk ID film, judul, tanggal rilis, URL IMDb, dan 19 genre."
   ]
  },
  {
   "cell_type": "code",
   "execution_count": 13,
   "metadata": {},
   "outputs": [],
   "source": [
    "# Merge ratings + items\n",
    "df = pd.merge(df_ratings, df_items, on='item_id')"
   ]
  },
  {
   "cell_type": "markdown",
   "metadata": {},
   "source": [
    "**Menggabungkan Data Rating dan Metadata**  \n",
    "   Dataset `df_ratings` (interaksi pengguna) digabung dengan `df_items` (metadata film) menggunakan `item_id` sebagai primary key. Hasilnya adalah satu DataFrame (`df`) yang komprehensif."
   ]
  },
  {
   "cell_type": "code",
   "execution_count": 14,
   "metadata": {},
   "outputs": [],
   "source": [
    "# Drop unused columns\n",
    "df.drop(columns=['timestamp', 'video_release_date', 'IMDb_URL'], inplace=True)"
   ]
  },
  {
   "cell_type": "markdown",
   "metadata": {},
   "source": [
    "**Menghapus Kolom yang Tidak Diperlukan**  \n",
    "   Kolom `timestamp`, `video_release_date`, dan `IMDb_URL` tidak digunakan dalam proses rekomendasi sehingga dihapus agar struktur data lebih ringkas dan fokus."
   ]
  },
  {
   "cell_type": "code",
   "execution_count": 15,
   "metadata": {},
   "outputs": [],
   "source": [
    "# Buat content feature matrix (film x genre)\n",
    "content_features = df_items.drop(columns=['release_date', 'video_release_date', 'IMDb_URL', 'title'])\n",
    "content_features = content_features.set_index('item_id')"
   ]
  },
  {
   "cell_type": "markdown",
   "metadata": {},
   "source": [
    "**Membuat Content Feature Matrix**  \n",
    "   Data film dikonversi menjadi matriks fitur (film × genre), dengan `item_id` sebagai indeks dan kolom genre sebagai fitur. Matriks ini digunakan dalam pendekatan content-based filtering untuk menghitung kemiripan antar film."
   ]
  },
  {
   "cell_type": "code",
   "execution_count": 16,
   "metadata": {},
   "outputs": [],
   "source": [
    "# Buat matrix user-item untuk collaborative filtering\n",
    "user_item_matrix = df.pivot_table(index='user_id', columns='item_id', values='rating')"
   ]
  },
  {
   "cell_type": "markdown",
   "metadata": {},
   "source": [
    "**Membuat Matrix User–Item**  \n",
    "   Data interaksi disusun ulang menjadi pivot table (`user_id` × `item_id`) yang berisi nilai rating. Matriks ini menjadi input utama untuk pendekatan collaborative filtering (misalnya menggunakan matrix factorization).\n"
   ]
  },
  {
   "cell_type": "code",
   "execution_count": 17,
   "metadata": {},
   "outputs": [
    {
     "name": "stdout",
     "output_type": "stream",
     "text": [
      "=== Dataset Gabungan ===\n",
      "   user_id  item_id  rating         title release_date  unknown  Action  \\\n",
      "0      196      242       3  Kolya (1996)  24-Jan-1997        0       0   \n",
      "1       63      242       3  Kolya (1996)  24-Jan-1997        0       0   \n",
      "2      226      242       5  Kolya (1996)  24-Jan-1997        0       0   \n",
      "3      154      242       3  Kolya (1996)  24-Jan-1997        0       0   \n",
      "4      306      242       5  Kolya (1996)  24-Jan-1997        0       0   \n",
      "\n",
      "   Adventure  Animation  Children's  ...  Fantasy  Film-Noir  Horror  Musical  \\\n",
      "0          0          0           0  ...        0          0       0        0   \n",
      "1          0          0           0  ...        0          0       0        0   \n",
      "2          0          0           0  ...        0          0       0        0   \n",
      "3          0          0           0  ...        0          0       0        0   \n",
      "4          0          0           0  ...        0          0       0        0   \n",
      "\n",
      "   Mystery  Romance  Sci-Fi  Thriller  War  Western  \n",
      "0        0        0       0         0    0        0  \n",
      "1        0        0       0         0    0        0  \n",
      "2        0        0       0         0    0        0  \n",
      "3        0        0       0         0    0        0  \n",
      "4        0        0       0         0    0        0  \n",
      "\n",
      "[5 rows x 24 columns]\n"
     ]
    }
   ],
   "source": [
    "# Cek hasil\n",
    "print(\"=== Dataset Gabungan ===\")\n",
    "print(df.head())"
   ]
  },
  {
   "cell_type": "markdown",
   "metadata": {},
   "source": [
    "**Insight:**\n",
    "\n",
    "- Data telah tergabung dengan baik — setiap interaksi pengguna sekarang memiliki metadata film yang lengkap.\n",
    "- Film dengan `item_id = 242` (Kolya) muncul berulang kali, mencerminkan bahwa beberapa pengguna memberi rating pada film yang sama.\n",
    "- Kolom genre terbentuk dengan struktur **one-hot encoding** yang sempurna, siap digunakan dalam perhitungan kesamaan (cosine similarity) untuk **content-based filtering**.\n",
    "- Format ini sangat mendukung fleksibilitas dalam modeling dan eksplorasi lanjutan.\n"
   ]
  },
  {
   "cell_type": "code",
   "execution_count": 18,
   "metadata": {},
   "outputs": [
    {
     "name": "stdout",
     "output_type": "stream",
     "text": [
      "\n",
      "=== Matriks Content-Based (film x genre) ===\n",
      "         unknown  Action  Adventure  Animation  Children's  Comedy  Crime  \\\n",
      "item_id                                                                     \n",
      "1              0       0          0          1           1       1      0   \n",
      "2              0       1          1          0           0       0      0   \n",
      "3              0       0          0          0           0       0      0   \n",
      "4              0       1          0          0           0       1      0   \n",
      "5              0       0          0          0           0       0      1   \n",
      "\n",
      "         Documentary  Drama  Fantasy  Film-Noir  Horror  Musical  Mystery  \\\n",
      "item_id                                                                     \n",
      "1                  0      0        0          0       0        0        0   \n",
      "2                  0      0        0          0       0        0        0   \n",
      "3                  0      0        0          0       0        0        0   \n",
      "4                  0      1        0          0       0        0        0   \n",
      "5                  0      1        0          0       0        0        0   \n",
      "\n",
      "         Romance  Sci-Fi  Thriller  War  Western  \n",
      "item_id                                           \n",
      "1              0       0         0    0        0  \n",
      "2              0       0         1    0        0  \n",
      "3              0       0         1    0        0  \n",
      "4              0       0         0    0        0  \n",
      "5              0       0         1    0        0  \n"
     ]
    }
   ],
   "source": [
    "print(\"\\n=== Matriks Content-Based (film x genre) ===\")\n",
    "print(content_features.head())"
   ]
  },
  {
   "cell_type": "markdown",
   "metadata": {},
   "source": [
    "**Insight:**\n",
    "\n",
    "- Matriks ini membentuk **representasi fitur film** yang sangat cocok digunakan untuk menghitung **cosine similarity** antar film dalam pendekatan **content-based filtering**.\n",
    "- Format one-hot seperti ini membuat model mudah mengenali kemiripan antar film berdasarkan genre.\n"
   ]
  },
  {
   "cell_type": "code",
   "execution_count": 19,
   "metadata": {},
   "outputs": [
    {
     "name": "stdout",
     "output_type": "stream",
     "text": [
      "\n",
      "=== Matriks Collaborative (user x item) ===\n",
      "item_id  1     2     3     4     5     6     7     8     9     10    ...  \\\n",
      "user_id                                                              ...   \n",
      "1         5.0   3.0   4.0   3.0   3.0   5.0   4.0   1.0   5.0   3.0  ...   \n",
      "2         4.0   NaN   NaN   NaN   NaN   NaN   NaN   NaN   NaN   2.0  ...   \n",
      "3         NaN   NaN   NaN   NaN   NaN   NaN   NaN   NaN   NaN   NaN  ...   \n",
      "4         NaN   NaN   NaN   NaN   NaN   NaN   NaN   NaN   NaN   NaN  ...   \n",
      "5         4.0   3.0   NaN   NaN   NaN   NaN   NaN   NaN   NaN   NaN  ...   \n",
      "\n",
      "item_id  1673  1674  1675  1676  1677  1678  1679  1680  1681  1682  \n",
      "user_id                                                              \n",
      "1         NaN   NaN   NaN   NaN   NaN   NaN   NaN   NaN   NaN   NaN  \n",
      "2         NaN   NaN   NaN   NaN   NaN   NaN   NaN   NaN   NaN   NaN  \n",
      "3         NaN   NaN   NaN   NaN   NaN   NaN   NaN   NaN   NaN   NaN  \n",
      "4         NaN   NaN   NaN   NaN   NaN   NaN   NaN   NaN   NaN   NaN  \n",
      "5         NaN   NaN   NaN   NaN   NaN   NaN   NaN   NaN   NaN   NaN  \n",
      "\n",
      "[5 rows x 1682 columns]\n"
     ]
    }
   ],
   "source": [
    "print(\"\\n=== Matriks Collaborative (user x item) ===\")\n",
    "print(user_item_matrix.head())"
   ]
  },
  {
   "cell_type": "markdown",
   "metadata": {},
   "source": [
    "**Insight Penting:**\n",
    "\n",
    "- Matriks ini bersifat **sparse** karena tidak semua user memberikan rating pada semua item.\n",
    "- Struktur ini sangat umum dalam sistem rekomendasi berbasis collaborative filtering.\n",
    "- Matrix ini akan menjadi input utama untuk algoritma seperti **SVD (matrix factorization)**, **KNN**, atau **ALS**.\n",
    "- Karena banyaknya `NaN`, perlu dilakukan **pengisian (imputasi)** atau teknik transformasi untuk dapat diproses model machine learning.\n"
   ]
  },
  {
   "cell_type": "markdown",
   "metadata": {},
   "source": [
    "# 4. Modeling and Result\n",
    "\n",
    "Tahapan ini berfokus pada penerapan dua pendekatan utama dalam sistem rekomendasi, yaitu:\n",
    "\n",
    "1. **Content-Based Filtering** – memberikan rekomendasi berdasarkan kesamaan antar item (film) yang dianalisis dari fitur konten (genre).\n",
    "2. **Collaborative Filtering** – memberikan rekomendasi berdasarkan kesamaan perilaku antar pengguna atau antar item berdasarkan data interaksi user-item.\n",
    "\n",
    "**Content-Based Filtering**\n",
    "\n",
    "Pendekatan ini menggunakan informasi genre pada film. Dengan menggunakan teknik cosine similarity, sistem dapat menghitung kemiripan antar film.\n",
    "\n",
    "**Collaborative Filtering**\n",
    "\n",
    "Pada pendekatan ini, sistem memanfaatkan interaksi user-item (user memberikan rating terhadap film). Teknik yang digunakan adalah matrix factorization (menggunakan TruncatedSVD) untuk menyarankan film kepada user berdasarkan pola rating pengguna lain yang mirip.\n",
    "\n",
    "Kedua pendekatan dibandingkan dari segi output dan kepraktisan implementasi."
   ]
  },
  {
   "cell_type": "markdown",
   "metadata": {},
   "source": [
    "### **Content-Based Filtering**"
   ]
  },
  {
   "cell_type": "code",
   "execution_count": 20,
   "metadata": {},
   "outputs": [],
   "source": [
    "# Genre matrix (film x genre)\n",
    "genre_matrix = content_features[genre_cols]"
   ]
  },
  {
   "cell_type": "markdown",
   "metadata": {},
   "source": [
    "Matriks `genre_matrix` berisi representasi film dalam vektor genre:\n"
   ]
  },
  {
   "cell_type": "code",
   "execution_count": 21,
   "metadata": {},
   "outputs": [],
   "source": [
    "# Hitung similarity antar film\n",
    "cos_sim = cosine_similarity(genre_matrix)"
   ]
  },
  {
   "cell_type": "markdown",
   "metadata": {},
   "source": [
    "Cosine similarity digunakan untuk mengukur kesamaan antar film berdasarkan genre:\n"
   ]
  },
  {
   "cell_type": "code",
   "execution_count": 22,
   "metadata": {},
   "outputs": [],
   "source": [
    "# Simpan sebagai DataFrame untuk interpretasi\n",
    "sim_df = pd.DataFrame(cos_sim, index=content_features.index, columns=content_features.index)"
   ]
  },
  {
   "cell_type": "markdown",
   "metadata": {},
   "source": [
    "Hasil cosine similarity disimpan dalam DataFrame `sim_df` untuk memudahkan pencarian:\n"
   ]
  },
  {
   "cell_type": "code",
   "execution_count": 23,
   "metadata": {},
   "outputs": [],
   "source": [
    "def recommend_similar_movies(movie_id, top_n=5):\n",
    "    # Ambil skor similarity dan urutkan\n",
    "    sim_scores = sim_df[movie_id].sort_values(ascending=False)[1:top_n+1]\n",
    "    \n",
    "    # Gabungkan dengan judul film\n",
    "    result = df_items[df_items['item_id'].isin(sim_scores.index)][['item_id', 'title']]\n",
    "    \n",
    "    # Urutkan berdasarkan urutan similarity\n",
    "    result['similarity'] = result['item_id'].map(sim_scores)\n",
    "    result = result.sort_values(by='similarity', ascending=False).reset_index(drop=True)\n",
    "    \n",
    "    return result"
   ]
  },
  {
   "cell_type": "markdown",
   "metadata": {},
   "source": [
    "Fungsi `recommend_similar_movies` mencari Top-N film yang paling mirip dengan input `movie_id`:"
   ]
  },
  {
   "cell_type": "code",
   "execution_count": 24,
   "metadata": {},
   "outputs": [
    {
     "name": "stdout",
     "output_type": "stream",
     "text": [
      "Rekomendasi mirip dengan: Toy Story (1995)\n",
      "   item_id                                   title  similarity\n",
      "0      422  Aladdin and the King of Thieves (1996)    1.000000\n",
      "1       95                          Aladdin (1992)    0.866025\n",
      "2     1219                   Goofy Movie, A (1995)    0.866025\n",
      "3      243                    Jungle2Jungle (1997)    0.816497\n",
      "4      623           Angels in the Outfield (1994)    0.816497\n"
     ]
    }
   ],
   "source": [
    "# Contoh: rekomendasi berdasarkan film id 1\n",
    "movie_id = 1\n",
    "print(f\"Rekomendasi mirip dengan: {df_items[df_items['item_id'] == movie_id]['title'].values[0]}\")\n",
    "print(recommend_similar_movies(movie_id))"
   ]
  },
  {
   "cell_type": "markdown",
   "metadata": {},
   "source": [
    "- Film yang direkomendasikan memiliki genre yang mirip dengan film \"Toy Story (1995)\", seperti animasi dan anak-anak.\n",
    "- Cosine similarity menghasilkan skor kemiripan antar film berdasarkan vektor genre.\n",
    "- Film dengan skor 1.0 artinya genre-nya identik (Aladdin and the King of Thieves).\n",
    "- Pendekatan ini efektif untuk **pengguna baru (cold start)** karena tidak memerlukan riwayat rating.\n"
   ]
  },
  {
   "cell_type": "markdown",
   "metadata": {},
   "source": [
    "### **Collaborative Filtering**"
   ]
  },
  {
   "cell_type": "code",
   "execution_count": 25,
   "metadata": {},
   "outputs": [],
   "source": [
    "# Isi NaN dengan 0\n",
    "user_item_filled = user_item_matrix.fillna(0)"
   ]
  },
  {
   "cell_type": "markdown",
   "metadata": {},
   "source": [
    "Matriks user-item berisi banyak nilai `NaN` (karena user belum memberi rating semua item). Sebelum proses SVD, nilai kosong diisi dengan 0:\n"
   ]
  },
  {
   "cell_type": "code",
   "execution_count": 26,
   "metadata": {},
   "outputs": [],
   "source": [
    "# TruncatedSVD\n",
    "svd = TruncatedSVD(n_components=20, random_state=42)\n",
    "latent_matrix = svd.fit_transform(user_item_filled)\n"
   ]
  },
  {
   "cell_type": "markdown",
   "metadata": {},
   "source": [
    "Matriks hasil imputasi diproses dengan TruncatedSVD untuk mereduksi dimensi dan menangkap representasi laten user dan item:\n"
   ]
  },
  {
   "cell_type": "code",
   "execution_count": 27,
   "metadata": {},
   "outputs": [],
   "source": [
    "# Hasil perkalian: prediksi rating user terhadap semua item\n",
    "reconstructed_matrix = np.dot(latent_matrix, svd.components_)"
   ]
  },
  {
   "cell_type": "markdown",
   "metadata": {},
   "source": [
    "Matriks asli direkonstruksi kembali menggunakan hasil dekomposisi, menghasilkan prediksi rating untuk semua kombinasi user-item:\n"
   ]
  },
  {
   "cell_type": "code",
   "execution_count": 28,
   "metadata": {},
   "outputs": [],
   "source": [
    "# Ubah ke dataframe\n",
    "pred_df = pd.DataFrame(reconstructed_matrix, index=user_item_matrix.index, columns=user_item_matrix.columns)"
   ]
  },
  {
   "cell_type": "markdown",
   "metadata": {},
   "source": [
    "Matriks hasil rekonstruksi dikonversi ke DataFrame agar mudah diakses:"
   ]
  },
  {
   "cell_type": "code",
   "execution_count": 29,
   "metadata": {},
   "outputs": [],
   "source": [
    "def recommend_for_user(user_id, top_n=5):\n",
    "    user_ratings = pred_df.loc[user_id]\n",
    "    \n",
    "    # Ambil item yang sudah pernah dirating user\n",
    "    already_rated = user_item_matrix.loc[user_id].dropna().index\n",
    "    \n",
    "    # Buang yang sudah dirating\n",
    "    recommendations = user_ratings.drop(index=already_rated).sort_values(ascending=False).head(top_n)\n",
    "    \n",
    "    # Gabungkan dengan metadata judul\n",
    "    result = df_items[df_items['item_id'].isin(recommendations.index)][['item_id', 'title']]\n",
    "    result['predicted_rating'] = result['item_id'].map(recommendations)\n",
    "    result = result.sort_values(by='predicted_rating', ascending=False).reset_index(drop=True)\n",
    "    \n",
    "    return result"
   ]
  },
  {
   "cell_type": "markdown",
   "metadata": {},
   "source": [
    " Fungsi `recommend_for_user()` akan:\n",
    "   - Mengambil prediksi rating semua item untuk satu user\n",
    "   - Membuang item yang sudah pernah dirating\n",
    "   - Mengambil Top-N item dengan prediksi rating tertinggi"
   ]
  },
  {
   "cell_type": "code",
   "execution_count": 30,
   "metadata": {},
   "outputs": [
    {
     "name": "stdout",
     "output_type": "stream",
     "text": [
      "Rekomendasi untuk user ID 10:\n",
      "   item_id                           title  predicted_rating\n",
      "0      514               Annie Hall (1977)          4.119473\n",
      "1      187  Godfather: Part II, The (1974)          4.079950\n",
      "2      427    To Kill a Mockingbird (1962)          3.909706\n",
      "3      318         Schindler's List (1993)          3.850498\n",
      "4        8                     Babe (1995)          3.445906\n"
     ]
    }
   ],
   "source": [
    "# Contoh: rekomendasi untuk user ID 10\n",
    "print(\"Rekomendasi untuk user ID 10:\")\n",
    "print(recommend_for_user(10))"
   ]
  },
  {
   "cell_type": "markdown",
   "metadata": {},
   "source": [
    "**Insight:**\n",
    "\n",
    "- Sistem berhasil memberikan **rekomendasi film dengan prediksi rating tinggi** untuk user ID 10, yang belum pernah ia tonton.\n",
    "- Film-film yang direkomendasikan memiliki **popularitas dan rating umum yang tinggi**, seperti *Schindler’s List* dan *The Godfather Part II*, menunjukkan bahwa sistem mampu mengenali pola kesukaan pengguna yang mirip.\n",
    "- **Prediksi rating berkisar antara 3.4–4.1**, cukup realistis dan selaras dengan pola rating umum dalam dataset.\n",
    "- Ini menunjukkan kekuatan **collaborative filtering** dalam menangkap hubungan laten antar pengguna — rekomendasi yang muncul bukan karena genre yang sama, tetapi karena pola rating yang mirip dari user lain.\n"
   ]
  },
  {
   "cell_type": "markdown",
   "metadata": {},
   "source": [
    "# 5. Evaluation\n",
    "\n",
    "Evaluasi dilakukan untuk mengukur performa sistem rekomendasi berdasarkan pendekatan yang digunakan. Pada proyek ini, dua metrik utama digunakan:\n",
    "\n",
    "**Root Mean Square Error (RMSE)** untuk pendekatan collaborative filtering berbasis matrix factorization. Metrik ini mengukur seberapa dekat prediksi rating dengan nilai aktual.\n",
    "\n",
    "**Precision@K** untuk pendekatan content-based filtering, yang mengukur seberapa relevan rekomendasi Top-K yang diberikan terhadap preferensi pengguna.\n",
    "\n",
    "### RMSE untuk Collaborative Filtering\n",
    "\n",
    "RMSE adalah akar dari rata-rata kuadrat selisih antara prediksi dan rating aktual. Rumusnya adalah:\n",
    "\n",
    "![rmse](rmse.png)\n",
    "\n",
    "Semakin kecil nilai RMSE, semakin akurat model dalam memprediksi rating.\n",
    "\n",
    "### Precision@K untuk Content-Based Filtering\n",
    "\n",
    "Precision@K menghitung proporsi item yang relevan di antara K rekomendasi teratas. Metrik ini berguna untuk mengukur kualitas Top-N Recommendation.\n",
    "\n",
    "![precision](precision.png)\n",
    "\n",
    "Kriteria relevan dapat ditentukan, misalnya: rating ≥ 4 dianggap relevan."
   ]
  },
  {
   "cell_type": "markdown",
   "metadata": {},
   "source": [
    "### **RMSE**"
   ]
  },
  {
   "cell_type": "code",
   "execution_count": 31,
   "metadata": {},
   "outputs": [
    {
     "name": "stdout",
     "output_type": "stream",
     "text": [
      "RMSE (Collaborative Filtering): 2.1329\n"
     ]
    }
   ],
   "source": [
    "# Buat dataset evaluasi: rating aktual vs prediksi (user-item yang sudah pernah dirating)\n",
    "actual = []\n",
    "predicted = []\n",
    "\n",
    "for user_id in user_item_matrix.index:\n",
    "    for item_id in user_item_matrix.columns:\n",
    "        actual_rating = user_item_matrix.loc[user_id, item_id]\n",
    "        if not np.isnan(actual_rating):\n",
    "            predicted_rating = pred_df.loc[user_id, item_id]\n",
    "            actual.append(actual_rating)\n",
    "            predicted.append(predicted_rating)\n",
    "\n",
    "# Hitung RMSE\n",
    "rmse = sqrt(mean_squared_error(actual, predicted))\n",
    "print(f\"RMSE (Collaborative Filtering): {rmse:.4f}\")"
   ]
  },
  {
   "cell_type": "markdown",
   "metadata": {},
   "source": [
    "**Insight:**\n",
    "\n",
    "- Nilai **RMSE sebesar 2.1329** menunjukkan bahwa **selisih rata-rata antara prediksi dan rating aktual sekitar 2 poin** pada skala rating 1–5.\n",
    "- Meskipun RMSE ini tidak tergolong sangat rendah, hal tersebut **lumrah untuk dataset MovieLens 100K** yang cukup **sparse** (jarang).\n",
    "- Faktor penyebab RMSE tidak lebih kecil:\n",
    "  - **Cold start** untuk sebagian besar item/user.\n",
    "  - Rating yang diprediksi mencakup seluruh user-item pair, bukan hanya untuk Top-N rekomendasi.\n",
    "- RMSE hanya mengevaluasi **akurasi numerik**, bukan relevansi Top-N, sehingga bisa dilengkapi dengan metrik lain seperti **Precision@K** atau **Recall@K** untuk evaluasi rekomendasi yang lebih praktis.\n"
   ]
  },
  {
   "cell_type": "markdown",
   "metadata": {},
   "source": [
    "### **Precision@K**"
   ]
  },
  {
   "cell_type": "code",
   "execution_count": 32,
   "metadata": {},
   "outputs": [
    {
     "name": "stdout",
     "output_type": "stream",
     "text": [
      "Precision@5 untuk user 1: 0.40\n",
      "Precision@5 untuk user 5: 0.20\n",
      "Precision@5 untuk user 10: 0.40\n"
     ]
    }
   ],
   "source": [
    "def precision_at_k(user_id, k=5, threshold=4):\n",
    "    # Dapatkan item yang pernah diberi rating tinggi oleh user\n",
    "    user_data = df[df['user_id'] == user_id]\n",
    "    liked_items = user_data[user_data['rating'] >= threshold]['item_id'].tolist()\n",
    "\n",
    "    # Ambil salah satu film yang disukai user\n",
    "    if liked_items:\n",
    "        seed_movie = liked_items[0]\n",
    "    else:\n",
    "        return None  # User tidak punya data relevan\n",
    "\n",
    "    # Rekomendasi berdasarkan film tsb\n",
    "    recommended_items = recommend_similar_movies(seed_movie, top_n=k)['item_id'].tolist()\n",
    "\n",
    "    # Precision@k\n",
    "    relevant_and_recommended = len(set(recommended_items) & set(liked_items))\n",
    "    return relevant_and_recommended / k\n",
    "\n",
    "# Contoh precision@5 untuk beberapa user\n",
    "for user in [1, 5, 10]:\n",
    "    p_at_5 = precision_at_k(user, k=5)\n",
    "    if p_at_5 is not None:\n",
    "        print(f\"Precision@5 untuk user {user}: {p_at_5:.2f}\")\n",
    "    else:\n",
    "        print(f\"User {user} tidak memiliki data relevan.\")"
   ]
  },
  {
   "cell_type": "markdown",
   "metadata": {},
   "source": [
    "**Insight:**\n",
    "\n",
    "- **Precision@5 sebesar 0.20 hingga 0.40** berarti bahwa hanya 1–2 dari 5 item rekomendasi yang benar-benar disukai user sebelumnya (rating ≥ 4).\n",
    "- Nilai precision ini tergolong **cukup baik**, mengingat model hanya menggunakan **fitur konten (genre)** dan tidak mempertimbangkan histori rating pengguna.\n",
    "- Metrik ini menunjukkan bahwa **pendekatan content-based mampu memberi rekomendasi yang relevan sebagian**, tapi tidak sepenuhnya presisi seperti collaborative filtering.\n",
    "- Keterbatasan:\n",
    "  - Hanya memeriksa 1 seed item dari `liked_items` → akurasinya bisa ditingkatkan dengan mempertimbangkan lebih banyak seed.\n",
    "  - Tidak semua user memiliki histori yang cukup → ada kemungkinan user tanpa `liked_items` tidak bisa dihitung precision-nya.\n"
   ]
  },
  {
   "cell_type": "markdown",
   "metadata": {},
   "source": [
    "# 6. Inferensi Model"
   ]
  },
  {
   "cell_type": "code",
   "execution_count": 33,
   "metadata": {},
   "outputs": [
    {
     "name": "stdout",
     "output_type": "stream",
     "text": [
      "\n",
      "[CBF] Film acak: Space Jam (1996)\n",
      "   Genre: ['Adventure', 'Animation', \"Children's\", 'Comedy', 'Fantasy']\n",
      "\n",
      "Rekomendasi berdasarkan genre:\n",
      "- Hercules (1997) → Genre: ['Adventure', 'Animation', \"Children's\", 'Comedy', 'Musical'], Similarity: 0.80\n",
      "- Pagemaster, The (1994) → Genre: ['Action', 'Adventure', 'Animation', \"Children's\", 'Fantasy'], Similarity: 0.80\n",
      "- Toy Story (1995) → Genre: ['Animation', \"Children's\", 'Comedy'], Similarity: 0.77\n",
      "- Flubber (1997) → Genre: [\"Children's\", 'Comedy', 'Fantasy'], Similarity: 0.77\n",
      "- Indian in the Cupboard, The (1995) → Genre: ['Adventure', \"Children's\", 'Fantasy'], Similarity: 0.77\n"
     ]
    }
   ],
   "source": [
    "import random\n",
    "\n",
    "# Inference Content-Based Filtering\n",
    "def infer_content_based():\n",
    "    # Ambil 1 film secara acak\n",
    "    random_film = df_items.sample(1).iloc[0]\n",
    "    movie_id = random_film['item_id']\n",
    "    title = random_film['title']\n",
    "    \n",
    "    # Ambil genre aslinya\n",
    "    film_genres = df_items[df_items['item_id'] == movie_id][genre_cols].iloc[0]\n",
    "    genre_list = [genre for genre, val in film_genres.items() if val == 1]\n",
    "\n",
    "    print(f\"\\n[CBF] Film acak: {title}\")\n",
    "    print(f\"   Genre: {genre_list}\")\n",
    "    \n",
    "    # Ambil rekomendasi mirip\n",
    "    result = recommend_similar_movies(movie_id)\n",
    "    \n",
    "    print(\"\\nRekomendasi berdasarkan genre:\")\n",
    "    for i, row in result.iterrows():\n",
    "        sim_genres = df_items[df_items['item_id'] == row['item_id']][genre_cols].iloc[0]\n",
    "        sim_genre_list = [g for g, v in sim_genres.items() if v == 1]\n",
    "        print(f\"- {row['title']} → Genre: {sim_genre_list}, Similarity: {row['similarity']:.2f}\")\n",
    "        \n",
    "infer_content_based()"
   ]
  },
  {
   "cell_type": "markdown",
   "metadata": {},
   "source": [
    "**Insight: Content-Based Filtering pada Film \"Space Jam (1996)\"**\n",
    "\n",
    "Pada contoh inferensi acak untuk film *Space Jam (1996)* dengan genre `['Adventure', 'Animation', \"Children's\", 'Comedy', 'Fantasy']`, sistem berhasil merekomendasikan film-film yang memiliki kemiripan genre tinggi, dengan skor similarity antara 0.77 hingga 0.80.\n",
    "\n",
    "Rekomendasi utama meliputi film-film seperti:\n",
    "\n",
    "- *Hercules (1997)* → Genre: `['Adventure', 'Animation', \"Children's\", 'Comedy', 'Musical']`, Similarity: 0.80\n",
    "- *Pagemaster, The (1994)* → Genre: `['Action', 'Adventure', 'Animation', \"Children's\", 'Fantasy']`, Similarity: 0.80\n",
    "- *Toy Story (1995)* → Genre: `['Animation', \"Children's\", 'Comedy']`, Similarity: 0.77\n",
    "- *Flubber (1997)* → Genre: `[\"Children's\", 'Comedy', 'Fantasy']`, Similarity: 0.77\n",
    "- *Indian in the Cupboard, The (1995)* → Genre: `['Adventure', \"Children's\", 'Fantasy']`, Similarity: 0.77\n",
    "\n",
    "Insight penting dari hasil ini:\n",
    "\n",
    "- Sistem content-based filtering mampu mengidentifikasi film-film dengan genre yang sangat mirip dan relevan.\n",
    "- Skor similarity yang cukup tinggi menunjukkan kesamaan fitur genre antar film.\n",
    "- Rekomendasi yang dihasilkan sesuai dengan ekspektasi preferensi pengguna berdasarkan genre film input.\n",
    "- Metode ini efektif untuk memberikan rekomendasi yang relevan berdasarkan karakteristik konten film.\n",
    "\n",
    "Secara keseluruhan, hasil ini memperlihatkan efektivitas content-based filtering dalam menghasilkan rekomendasi yang sesuai dengan fitur genre film."
   ]
  },
  {
   "cell_type": "code",
   "execution_count": 34,
   "metadata": {},
   "outputs": [
    {
     "name": "stdout",
     "output_type": "stream",
     "text": [
      "\n",
      "[CF] User acak: 450\n",
      "\n",
      "Histori rating tertinggi:\n",
      "                                  title  rating\n",
      "219            L.A. Confidential (1997)       5\n",
      "33638               Blade Runner (1982)       5\n",
      "34120         Gone with the Wind (1939)       5\n",
      "34257       Fish Called Wanda, A (1988)       5\n",
      "34572  Streetcar Named Desire, A (1951)       5\n",
      "\n",
      "Rekomendasi untuk user 450:\n",
      "- In the Line of Fire (1993) → Prediksi rating: 4.20\n",
      "- In the Name of the Father (1993) → Prediksi rating: 3.83\n",
      "- Madness of King George, The (1994) → Prediksi rating: 3.74\n",
      "- Pinocchio (1940) → Prediksi rating: 3.48\n",
      "- Sabrina (1954) → Prediksi rating: 3.39\n"
     ]
    }
   ],
   "source": [
    "# Inference Collaborative Filtering \n",
    "def infer_collaborative():\n",
    "    # Ambil user secara acak\n",
    "    user_id = random.choice(user_item_matrix.index.tolist())\n",
    "    print(f\"\\n[CF] User acak: {user_id}\")\n",
    "    \n",
    "    # Histori rating user\n",
    "    user_history = df[df['user_id'] == user_id].sort_values(by='rating', ascending=False)\n",
    "    print(f\"\\nHistori rating tertinggi:\")\n",
    "    print(user_history[['title', 'rating']].head(5))\n",
    "\n",
    "    # Rekomendasi untuk user\n",
    "    recommendations = recommend_for_user(user_id)\n",
    "    \n",
    "    print(f\"\\nRekomendasi untuk user {user_id}:\")\n",
    "    for i, row in recommendations.iterrows():\n",
    "        print(f\"- {row['title']} → Prediksi rating: {row['predicted_rating']:.2f}\")\n",
    "\n",
    "infer_collaborative()"
   ]
  },
  {
   "cell_type": "markdown",
   "metadata": {},
   "source": [
    "**Insight: Collaborative Filtering untuk User ID 450**\n",
    "\n",
    "User dengan ID 450 memiliki histori rating tertinggi pada film-film berikut:\n",
    "\n",
    "- *L.A. Confidential (1997)* — rating 5\n",
    "- *Blade Runner (1982)* — rating 5\n",
    "- *Gone with the Wind (1939)* — rating 5\n",
    "- *A Fish Called Wanda (1988)* — rating 5\n",
    "- *A Streetcar Named Desire (1951)* — rating 5\n",
    "\n",
    "Film-film tersebut menunjukkan preferensi user terhadap film-film berkualitas tinggi dengan genre beragam seperti drama, thriller, dan klasik.\n",
    "\n",
    "Berdasarkan pola interaksi dan rating pengguna lain yang memiliki kemiripan perilaku, sistem merekomendasikan film-film berikut dengan prediksi rating:\n",
    "\n",
    "- *In the Line of Fire (1993)* — prediksi rating: 4.20\n",
    "- *In the Name of the Father (1993)* — prediksi rating: 3.83\n",
    "- *The Madness of King George, The (1994)* — prediksi rating: 3.74\n",
    "- *Pinocchio (1940)* — prediksi rating: 3.48\n",
    "- *Sabrina (1954)* — prediksi rating: 3.39\n",
    "\n",
    "Insight penting dari hasil ini:\n",
    "\n",
    "- Model collaborative filtering mampu memberikan rekomendasi personal berdasarkan pola rating pengguna lain yang serupa.\n",
    "- Rekomendasi mengarah pada film-film yang berpotensi disukai user berdasarkan preferensi komunitas.\n",
    "- Prediksi rating yang cukup tinggi menunjukkan kepercayaan model terhadap kecocokan rekomendasi.\n",
    "- Metode ini efektif untuk menangkap preferensi laten pengguna tanpa bergantung pada fitur konten film.\n",
    "\n",
    "Hasil ini memperlihatkan kekuatan collaborative filtering dalam memberikan rekomendasi yang dipersonalisasi dengan menggunakan data interaksi pengguna."
   ]
  },
  {
   "cell_type": "code",
   "execution_count": null,
   "metadata": {},
   "outputs": [],
   "source": []
  }
 ],
 "metadata": {
  "kernelspec": {
   "display_name": "Python 3",
   "language": "python",
   "name": "python3"
  },
  "language_info": {
   "codemirror_mode": {
    "name": "ipython",
    "version": 3
   },
   "file_extension": ".py",
   "mimetype": "text/x-python",
   "name": "python",
   "nbconvert_exporter": "python",
   "pygments_lexer": "ipython3",
   "version": "3.9.6"
  }
 },
 "nbformat": 4,
 "nbformat_minor": 2
}
